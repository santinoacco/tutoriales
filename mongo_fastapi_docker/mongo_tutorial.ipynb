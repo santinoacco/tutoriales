{
 "cells": [
  {
   "cell_type": "markdown",
   "metadata": {},
   "source": [
    "# Overview\n",
    "\n",
    "Tutorial on how to create, connect, fill, request and modify a MongoDB.\n",
    "This tutorial is part of the DataBases Tutorials Series.\n",
    "\n",
    "## Plan\n",
    "1. Create the environment (using UV) to create a MongoDB and a FastAPI API.\n",
    "2. Create a simple API using FastAPI that can add (POST) a new User and show (GET) a list of Users:\n",
    "    1. with uvicorn we can run it locally and test it's output even before connecting it to a database.\n",
    "3. Create a **local MongoDB database** using Docker. Initialize it with a container named `users`.\n",
    "4. Connect **manually** the API (hosted using Uvicorn) w/ the MongoDB database from 2).\n",
    "5. Add data into the database and persist it using *volumes*.\n",
    "6. Repeat using **Docker Compose** to handle the orchestration\n"
   ]
  },
  {
   "cell_type": "markdown",
   "metadata": {},
   "source": [
    "## 1 - Environment\n",
    "\n"
   ]
  },
  {
   "cell_type": "markdown",
   "metadata": {},
   "source": [
    "Create a folder for the API"
   ]
  },
  {
   "cell_type": "code",
   "execution_count": null,
   "metadata": {
    "vscode": {
     "languageId": "shellscript"
    }
   },
   "outputs": [],
   "source": [
    "mkdir api"
   ]
  },
  {
   "cell_type": "markdown",
   "metadata": {},
   "source": [
    "Init an [UV]() project inside the `api` dir:"
   ]
  },
  {
   "cell_type": "code",
   "execution_count": null,
   "metadata": {
    "vscode": {
     "languageId": "shellscript"
    }
   },
   "outputs": [],
   "source": [
    "cd api && uv init ."
   ]
  },
  {
   "cell_type": "markdown",
   "metadata": {},
   "source": [
    "Install dependencies to create the API, host:"
   ]
  },
  {
   "cell_type": "code",
   "execution_count": null,
   "metadata": {
    "vscode": {
     "languageId": "shellscript"
    }
   },
   "outputs": [],
   "source": [
    "uv add fastapi motor uvicorn pydantic"
   ]
  },
  {
   "cell_type": "markdown",
   "metadata": {},
   "source": [
    "Create the `main.py` file,\n",
    "inside `api/`,\n",
    "to execute on the server,\n",
    "and copy the following code inside it."
   ]
  },
  {
   "cell_type": "markdown",
   "metadata": {},
   "source": [
    "```python\n",
    "from fastapi import FastAPI\n",
    "api = FastAPI()\n",
    "\n",
    "```"
   ]
  },
  {
   "cell_type": "markdown",
   "metadata": {},
   "source": [
    "## 2 - Create Local MongoDB\n",
    "\n",
    "We will use Docker to create the instance and MongoDB Compose to visualize and create the `collection` and `database`."
   ]
  },
  {
   "cell_type": "markdown",
   "metadata": {},
   "source": [
    "In a Terminal run\n"
   ]
  },
  {
   "cell_type": "code",
   "execution_count": null,
   "metadata": {
    "vscode": {
     "languageId": "shellscript"
    }
   },
   "outputs": [],
   "source": [
    "docker run -d --name mongodb-demo -p 27017:27017 -v mongodemo:/data/db mongo:latest"
   ]
  },
  {
   "cell_type": "markdown",
   "metadata": {},
   "source": [
    "Command explained:\n",
    "\n",
    "1.  This will create a container called `mongodb-demo` with `mongo` (latest version) image.\n",
    "\n",
    "2.  It will connect machine port `27017` to the container port `27017` (mongo default port),\n",
    "as expressed by the flag `-p <pc-port>:<container-port>`.\n",
    "\n",
    "3.  Finally since we want to persist the data even if we destroy de container we create a volume 'mongodemo' using the local directory `.` to store data."
   ]
  },
  {
   "cell_type": "markdown",
   "metadata": {},
   "source": [
    "### Initialize DataBase and Collection "
   ]
  },
  {
   "cell_type": "markdown",
   "metadata": {},
   "source": [
    "\n",
    "#### with MongoDB Compass"
   ]
  },
  {
   "cell_type": "markdown",
   "metadata": {},
   "source": [
    "Install [MongoDB Compass]() and connect to it using as connection string:\n",
    "`mongodb://localhost:27017/`.\n",
    "Note that this implies no `user` nor `password`, i.e. no authentication;\n",
    "we will add that later.\n",
    "\n",
    "Once connected select `Create Database` and call it `testDB`.\n",
    "Inside it select `Create Collection` and call it `users`."
   ]
  },
  {
   "cell_type": "markdown",
   "metadata": {
    "vscode": {
     "languageId": "shellscript"
    }
   },
   "source": [
    "#### with MongoSh"
   ]
  },
  {
   "cell_type": "markdown",
   "metadata": {},
   "source": [
    "Once the container for the DB is running,\n",
    "which we can check with:\n",
    "```bash\n",
    "docker ps\n",
    "```\n",
    "\n",
    "To connect to the DB using Mongosh copy the `CONTAINER ID` and use it in the following command:\n",
    "```bash\n",
    "docker exec -it <CONTAINER-ID> bash &&\n",
    "mongosh\n",
    "```\n",
    "\n",
    "- show existing databases: `show dbs`\n",
    "- create the new database `test-database`: `use test-database`\n",
    "- show collections: `show collections`\n",
    "- create a new collection `users`:\n",
    "    - by inserting one`db.users.insertOne()`\n",
    "- show elements inside collection: `db.users.find().pretty()`\n",
    "\n",
    ">[!important] If a collection does not exist, MongoDB creates the collection when you first store data for that collection.\n"
   ]
  },
  {
   "cell_type": "markdown",
   "metadata": {},
   "source": [
    "## 3 - Create an API with FastAPI to interact with the DB\n",
    "\n",
    "1.  Create everything inside `main.py`\n",
    "2.  Structure in a pkg way to organize the codebase better."
   ]
  },
  {
   "cell_type": "markdown",
   "metadata": {},
   "source": [
    "Inside `api/main.py` add the following lines to define a new API:\n",
    "\n",
    "```python\n",
    "import os\n",
    "from motor.motor_asyncio import AsyncIOMotorClient\n",
    "from fastapi import FastAPI, status, Body\n",
    "\n",
    "api = FastAPI()\n",
    "\n",
    "# -- To Check connection\n",
    "@app.get(\"/\")\n",
    "def read_root(): # function that is binded with the endpoint\n",
    "    return {\"Welcome to the API\"}\n",
    "```\n"
   ]
  },
  {
   "cell_type": "markdown",
   "metadata": {},
   "source": [
    "To use the database we have to connect to it,\n",
    "for MongoDB we need a `connection_string`,\n",
    "which I will call `URL_DB` and because we are using the localhost we will set it as defined in the previous section `URL_DB = mongodb://localhost:27017/` and the database name will be the same as before `testDB`.\n",
    "We will store the variable `URL_DB` inside an `.env` file.\n",
    "\n",
    "To work with the DB we will have to get the MongoDB Client,\n",
    "for that we will add the following lines to the file:\n",
    "\n",
    "```python\n",
    "import os\n",
    "from motor.motor_asyncio import AsyncIOMotorClient\n",
    "from fastapi import FastAPI, status, Body\n",
    "\n",
    "api = FastAPI()\n",
    "\n",
    "# -- To Check connection\n",
    "@app.get(\"/\")\n",
    "def read_root(): # function that is binded with the endpoint\n",
    "    return {\"Welcome to the API\"}\n",
    "\n",
    "# -- Connect to DB\n",
    "# DB_URL = \"mongodb://localhost:27017/\"\n",
    "client = AsyncIOMotorClient(os.environ[DB_URL])\n",
    "# -- Get database\n",
    "DB = client[\"testDB\"]\n",
    "```"
   ]
  },
  {
   "cell_type": "markdown",
   "metadata": {},
   "source": [
    "We will add an endpoint to creat a User and post it into the DB.\n",
    "To do that we first need to define two data-models to handle conversion and manipulation of data between the API and the DB,\n",
    "one is the `PyObjectId` and the other one is the `UserModel`."
   ]
  },
  {
   "cell_type": "markdown",
   "metadata": {},
   "source": [
    "For `pydantic < 2.0.0` we will use:\n",
    "\n",
    "```python\n",
    "from bson import ObjectId\n",
    "from pydantic import BaseModel, Field\n",
    "from typing import Optional\n",
    "\n",
    "class PyObjectId(ObjectId):\n",
    "    @classmethod\n",
    "    def __get_validators__(cls):\n",
    "        yield cls.validate\n",
    "\n",
    "    @classmethod\n",
    "    def validate(cls, v):\n",
    "        if not ObjectId.is_valid(v):\n",
    "            raise ValueError(\"Invalid objectid\")\n",
    "        return ObjectId(v)\n",
    "\n",
    "    # NOTE: invalid for pydantic-v2\n",
    "    @classmethod\n",
    "    def __modify_schema__(cls, field_schema):\n",
    "        field_schema.update(type=\"string\")\n",
    "\n",
    "class UserModel(BaseModel):\n",
    "    id: PyObjectId = Field(default_factory=PyObjectId, alias=\"_id\")\n",
    "    email: str = Field(...)\n",
    "    password: str = Field(...)\n",
    "    name: Optional[str] = Field(...)\n",
    "\n",
    "    class Config:\n",
    "        allow_population_by_field_name = True\n",
    "        arbitrary_types_allowed = True\n",
    "        json_encoders = {ObjectId: str}\n",
    "        schema_extra = {\n",
    "            \"example\": {\n",
    "                \"email\":\"demo@mail.com\",\n",
    "                \"password\": \"demo_secret_pass\",\n",
    "                \"name\":\"Demo Account\"\n",
    "            }\n",
    "        } \n",
    "```"
   ]
  },
  {
   "cell_type": "markdown",
   "metadata": {},
   "source": [
    "For `pydantic >= 2.0.0` we can replace `PyObjectId` by:\n",
    "```python\n",
    "from typing_extensions import Annotated\n",
    "from pydantic.functional_validators import BeforeValidator\n",
    "PyObjectId = Annotated[str, BeforeValidator(str)]\n",
    "```"
   ]
  },
  {
   "cell_type": "markdown",
   "metadata": {},
   "source": [
    "Add the endpoint to create a new user:\n",
    "```python\n",
    "...\n",
    "from fastapi.encoders import jsonable_encoder\n",
    "from fastapi.responses import JSONResponse\n",
    "\n",
    "...\n",
    "@api.post(\n",
    "    \"/users/\",\n",
    "    response_description=\"Add new user\",\n",
    "    response_model=UserModel,\n",
    ")\n",
    "async def create_user(user: UserModel):\n",
    "    # TODO: validate user doesn't already exist.\n",
    "    user_json = jsonable_encoder(user)\n",
    "    new_user = await DB[\"users\"].insert_one(user_json)\n",
    "    created_user = await DB[\"users\"].find_one(\n",
    "        {\"_id\": new_user.inserted_id}\n",
    "    )\n",
    "    res = JSONResponse(\n",
    "        status_code=status.HTTP_201_CREATED, \n",
    "        content=created_user\n",
    "    )\n",
    "    return res\n",
    "```"
   ]
  },
  {
   "cell_type": "markdown",
   "metadata": {},
   "source": [
    "Add an endpoint to list all existing Users:\n",
    "```python\n",
    "from typing import List\n",
    "\n",
    "...\n",
    "\n",
    "@api.get(\n",
    "    \"/users\",\n",
    "    response_description=\"List all users\",\n",
    "    response_model=List[UserModel]\n",
    ")\n",
    "async def list_users():\n",
    "    users = await DB[\"users\"].find().to_list(1000)\n",
    "    return users\n",
    "```"
   ]
  },
  {
   "cell_type": "markdown",
   "metadata": {},
   "source": [
    "Lets organize the source code into it's own dir:\n",
    "\n",
    "```shell\n",
    "mkdir src \n",
    "```\n",
    "\n",
    "Inside we will create a few files:\n",
    "-   `__init__.py` to create a pkg\n",
    "-   `models.py` to hold all Type Models to interact between the DB and the API. \n",
    "-   `routers.py` to hold all endpoints.\n",
    "-   `settings.py` for database connection\n"
   ]
  },
  {
   "cell_type": "markdown",
   "metadata": {},
   "source": [
    "1.  Move the `UserModel` and `PyObjectId` to `src/models`.\n",
    "2.  Move endpoints ƒrom `main.py` to `router` and import `routers` to `main` with `api.include_router(router)`."
   ]
  },
  {
   "cell_type": "markdown",
   "metadata": {},
   "source": [
    "## 4 - Connect API to MongoDB database\n",
    "\n",
    ">[!NOTE]\n",
    "> MongoDB should be running with the Docker container"
   ]
  },
  {
   "cell_type": "markdown",
   "metadata": {},
   "source": [
    "As is we can connect but we won't be able to interact yet."
   ]
  },
  {
   "cell_type": "markdown",
   "metadata": {},
   "source": [
    "To connect we have to run the API in the server,\n",
    "in this case a local one using [Uvicorn]().\n",
    "Since we are managing the project with UV we will run it inside its `venv`.\n",
    "Make sure you are inside `api` when running the following:"
   ]
  },
  {
   "cell_type": "code",
   "execution_count": null,
   "metadata": {
    "vscode": {
     "languageId": "shellscript"
    }
   },
   "outputs": [],
   "source": [
    "uv run uvicorn main:api --reload"
   ]
  },
  {
   "cell_type": "markdown",
   "metadata": {},
   "source": [
    "## 5 - Replace the manual setup with Docker Compose\n",
    "\n",
    "We will create a container for the API, \n",
    "another for the Database, \n",
    "with a volume to persist the data,\n",
    "and then connect them via a network."
   ]
  },
  {
   "cell_type": "markdown",
   "metadata": {},
   "source": [
    "Create a file `docker-compose.yml` and inside it set the following:\n",
    "```yaml\n",
    "version: \"3.8\"\n",
    "services:\n",
    "```\n"
   ]
  },
  {
   "cell_type": "markdown",
   "metadata": {
    "vscode": {
     "languageId": "shellscript"
    }
   },
   "source": [
    "We need to create the container for MongoDB database and initialize the database before we connect it to the API.\n",
    "For the MongoDB database we will create a service `database` that will use the latest version of `mongo`\n",
    "(a better practice is to specify a version)\n",
    "\n",
    "```yaml\n",
    "version: \"3.8\"\n",
    "services:\n",
    "    database:\n",
    "        image: mongo\n",
    "```\n",
    "\n",
    "Since we want the data we store in the DB to persist after container up/down operations,\n",
    "we introduce a volume that we call `mongodata` and we map it to the database container.\n",
    "\n",
    "```yaml\n",
    "version: \"3.8\"\n",
    "services:\n",
    "    database:\n",
    "        image: mongo\n",
    "        volumes:\n",
    "            - mongodata:/data/db\n",
    "volumes:\n",
    "    mongodata:\n",
    "```"
   ]
  },
  {
   "cell_type": "markdown",
   "metadata": {},
   "source": [
    "Next we have to create the Server Side API container.\n",
    "For that we will need to create inside `api/` a `Dockerfile` and a `requirements.txt` file.\n",
    "The latter contains all the dependencies required to build and install the API and run it in the server."
   ]
  },
  {
   "cell_type": "markdown",
   "metadata": {},
   "source": [
    "Example of the `requirements.txt` file:\n",
    "\n",
    "```\n",
    "asgiref==3.4.1\n",
    "bcrypt==3.2.0\n",
    "cffi==1.14.5\n",
    "click==8.0.1\n",
    "colorama==0.4.4\n",
    "cryptography==3.4.7\n",
    "dnspython==2.1.0\n",
    "ecdsa==0.17.0\n",
    "email-validator==1.1.3\n",
    "fastapi==0.66.0\n",
    "h11==0.12.0\n",
    "idna==3.2\n",
    "motor==2.4.0\n",
    "passlib==1.7.4\n",
    "pyasn1==0.4.8\n",
    "pycparser==2.20\n",
    "pydantic==1.8.2\n",
    "pymongo==3.11.4\n",
    "python-jose==3.3.0\n",
    "python-multipart==0.0.5\n",
    "rsa==4.7.2\n",
    "six==1.16.0\n",
    "starlette==0.14.2\n",
    "typing-extensions==3.10.0.0\n",
    "uvicorn==0.14.0\n",
    "```\n",
    "\n",
    "One can extract one from UV (it uses `uv.lock`) using:\n",
    "```bash\n",
    "uv export --no-hashes --format requirements-txt > requirements.txt\n",
    "```\n",
    "Or using pip:\n",
    "```bash\n",
    "pip3 freeze > requirements.txt \n",
    "```"
   ]
  },
  {
   "cell_type": "markdown",
   "metadata": {},
   "source": [
    "Create the `Dockerfile` for the API.\n",
    "We will base the API in the v3.8 of python,\n",
    "we will declare the `WORKDIR` inside the container,\n",
    "then we will copy the `requirements.txt` file into the working directory and install all dependencies.\n",
    "Then we copy the source code into the working directory,\n",
    "and we `EXPOSE` a port to listen to the request in the server.\n",
    "Finally we run the API in the server using the `CMD`. "
   ]
  },
  {
   "cell_type": "markdown",
   "metadata": {},
   "source": [
    "The file will look like this:\n",
    "```dockerfile\n",
    "# Pull image\n",
    "FROM python:3.8-slim-buster\n",
    "\n",
    "# setup workdir same as said in docker compose\n",
    "WORKDIR /code\n",
    "\n",
    "#   install inside container\n",
    "COPY requirements.txt requirements.txt\n",
    "RUN pip3 install -r requirements.txt\n",
    "\n",
    "#   port that FastAPI will be listening on inside the container\n",
    "EXPOSE 8000\n",
    "COPY . .\n",
    "\n",
    "CMD [\"uvicorn\", \"main:api\", \"--host\", \"0.0.0.0\", \"--port\", \"8000\"]\n",
    "```"
   ]
  },
  {
   "cell_type": "markdown",
   "metadata": {},
   "source": [
    "Now we have to add that container \"recipe\" to our docker compose file.\n",
    "For that we first need to create a service `api` that will use the above created `Dockerfile`.\n",
    "```yaml\n",
    "version: \"3.8\"\n",
    "services:\n",
    "    api:\n",
    "        build: ./api\n",
    "        volumes:\n",
    "            - ./api/:/code\n",
    "        ports:\n",
    "            - 8000:8000\n",
    "    database:\n",
    "        image: mongo\n",
    "        volumes:\n",
    "            - mongodata:/data/db\n",
    "volumes:\n",
    "    mongodata:\n",
    "```\n",
    "We add the flag `build: ./api` to specify that the source code dir is the one that locally is called `./api`.\n",
    "We add a volume to store the source code inside the containers `WORKDIR` as expected by the `Dockerfile`.\n",
    "Then we connected the local-machine port `8000` with the exposed container port `8000`\n",
    "(again as expected and defined in the `Dockerfile`).\n",
    "Note that the machine port doesn't need to be the same as the container port."
   ]
  },
  {
   "cell_type": "markdown",
   "metadata": {},
   "source": [
    "So far we have all the containers that we need,\n",
    "but they are not connected and thus the API will not work as it will fail to interact with the database.\n",
    "Docker Compose will handle creating the network,\n",
    "we only need to specify a few parameters.\n",
    "Since the MongoDB client uses a connection string that we called `DB_URL` we have to set it here or pass an `.env` file with that variable.\n",
    "Note that I'm using the name of the service to connect the API w/ the DB.\n",
    "We will also state that we want the API to wait for the database service before starting.\n",
    "In addition I will expose a port to access the DB from MongoDB Compass using `port 27017`.\n",
    "\n",
    "The file becomes:\n",
    "```yaml\n",
    "version: \"3.8\"\n",
    "services:\n",
    "    api:\n",
    "        build: ./api\n",
    "        volumes:\n",
    "            - ./api/:/code\n",
    "        ports:\n",
    "            - 8000:8000\n",
    "        environment:\n",
    "            - DB_URL=mongodb://database/testDB\n",
    "        depends_on:\n",
    "            - database\n",
    "    database:\n",
    "        image: mongo\n",
    "        volumes:\n",
    "            - mongodata:/data/db\n",
    "        ports:\n",
    "            - 27017:27017\n",
    "volumes:\n",
    "    mongodata:\n",
    "```"
   ]
  },
  {
   "cell_type": "markdown",
   "metadata": {},
   "source": [
    "-----"
   ]
  }
 ],
 "metadata": {
  "kernelspec": {
   "display_name": ".venv",
   "language": "python",
   "name": "python3"
  },
  "language_info": {
   "codemirror_mode": {
    "name": "ipython",
    "version": 3
   },
   "file_extension": ".py",
   "mimetype": "text/x-python",
   "name": "python",
   "nbconvert_exporter": "python",
   "pygments_lexer": "ipython3",
   "version": "3.13.2"
  }
 },
 "nbformat": 4,
 "nbformat_minor": 2
}
